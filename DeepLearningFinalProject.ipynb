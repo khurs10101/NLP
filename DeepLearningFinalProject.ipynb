{
 "cells": [
  {
   "cell_type": "code",
   "execution_count": 1,
   "metadata": {
    "collapsed": false
   },
   "outputs": [],
   "source": [
    "import tensorflow as tf\n",
    "import nltk\n",
    "from nltk.tokenize import word_tokenize\n",
    "from nltk.stem import WordNetLemmatizer\n",
    "import numpy as np\n",
    "import random\n",
    "import pickle\n",
    "from collections import Counter"
   ]
  },
  {
   "cell_type": "code",
   "execution_count": 2,
   "metadata": {
    "collapsed": false
   },
   "outputs": [],
   "source": [
    "#initializing the lemmatizer object\n",
    "lemmatizer= WordNetLemmatizer()\n",
    "hm_lines= 10000"
   ]
  },
  {
   "cell_type": "code",
   "execution_count": 3,
   "metadata": {
    "collapsed": false
   },
   "outputs": [],
   "source": [
    "#function to create meaningfull lexicon from a huge text\n",
    "def create_lexicon(pos,neg):\n",
    "    #placeholder to hold the lemmantize lexicon\n",
    "    lexicon=[]\n",
    "    for fi in [pos,neg]:\n",
    "        #opening each pos.txt and neg.tex with each iteration\n",
    "        with open(fi,'r') as f:\n",
    "            #contents contain an array of sentences\n",
    "            contents= f.readlines()\n",
    "            #here l will read one sentence at one iteration and will read upto 10000 sentence\n",
    "            for l in contents[:hm_lines]:\n",
    "                #converting each sentence into tokens. 'all_words' is a list of words in lowercase\n",
    "                all_words= word_tokenize(l.lower())\n",
    "                #merging several list in one list\n",
    "                lexicon += list(all_words)\n",
    "    \n",
    "    #lemmatizing ie making running, ran etc into root like run\n",
    "    lexicon= [lemmatizer.lemmatize(i) for i in lexicon]\n",
    "    #w_count will count the occurence of each unique word in the form '({'hello':2107,'hi':2136})'\n",
    "    w_count= Counter(lexicon)\n",
    "    l2=[]\n",
    "    #here 'w' will contain each unique word only and w_count[w] will give the number of occurence only\n",
    "    for w in w_count:\n",
    "        #the idea is to select those important word which occurs less\n",
    "        if 1000>w_count[w]>50:\n",
    "            l2.append(w)\n",
    "    return l2\n",
    "#end of function\n",
    "#l2 will contain list of all words ['all','the','``']"
   ]
  },
  {
   "cell_type": "code",
   "execution_count": 4,
   "metadata": {
    "collapsed": false
   },
   "outputs": [],
   "source": [
    "#\n",
    "def sample_handling(sample,lexicon,classification):\n",
    "    #\n",
    "    featureset=[]\n",
    "    #reading 'sample' file and tokenizing and lemmatizing it\n",
    "    with open(sample,'r') as f:\n",
    "        contents= f.readlines()\n",
    "        for l in contents[:hm_lines]:\n",
    "            current_word= word_tokenize(l.lower())\n",
    "            current_word= [lemmatizer.lemmatize(i) for i in current_word]\n",
    "            #here each iteration of current word will contain a sentence which is tokenize and lemmatize\n",
    "            #i.e ['I','am','a','boy','.']\n",
    "            #features will contain array of zeros eg. [0,0,0,0,0,0,0]\n",
    "            #the size of the feature is 115404\n",
    "            features= np.zeros(len(lexicon))\n",
    "            #we are taking each word of 'current_word' and\n",
    "            for word in current_word:\n",
    "                #if the word is in lexicon then\n",
    "                if word.lower() in lexicon:\n",
    "                    #we find the index of the word in lexicon\n",
    "                    index_value= lexicon.index(word.lower())\n",
    "                    #and incrementing the value at that position in feature eg [0,0,1,0,0]. This is because the\n",
    "                    #length of feature set is same as lexicon\n",
    "                    features[index_value]+=1\n",
    "            features= list(features)\n",
    "            featureset.append([features,classification])\n",
    "            #featureset will look like [[features,classification],[feat..,class..],[[000100],[01]]] etc\n",
    "    return featureset\n",
    "#end of function\n"
   ]
  },
  {
   "cell_type": "code",
   "execution_count": 5,
   "metadata": {
    "collapsed": false
   },
   "outputs": [],
   "source": [
    "def create_feature_sets_and_labels(pos,neg,test_size = 0.1):\n",
    "        lexicon = create_lexicon(pos,neg)\n",
    "        features = []\n",
    "        #feature will be like [[[10001],[10]],[[100010],[01]],......]\n",
    "        features += sample_handling(pos,lexicon,[1,0])\n",
    "        features += sample_handling(neg,lexicon,[0,1])\n",
    "        random.shuffle(features)\n",
    "        #converting list to array object\n",
    "        features = np.array(features)\n",
    "\n",
    "        testing_size = int(test_size*len(features))\n",
    "        #train_x will have [[10001],[001011],[1001010],.....]\n",
    "        train_x = list(features[:,0][:-testing_size])\n",
    "        #train_y will contain [[10],[01],[10]........]\n",
    "        train_y = list(features[:,1][:-testing_size])\n",
    "        test_x = list(features[:,0][-testing_size:])\n",
    "        test_y = list(features[:,1][-testing_size:])\n",
    "\n",
    "        return train_x,train_y,test_x,test_y"
   ]
  },
  {
   "cell_type": "code",
   "execution_count": 6,
   "metadata": {
    "collapsed": false
   },
   "outputs": [],
   "source": [
    "train_x,train_y,test_x,test_y = create_feature_sets_and_labels('pos.txt','neg.txt')\n",
    "#with open('sentiment_set.pickle','wb') as f:\n",
    "#    pickle.dump([train_x,train_y,test_x,test_y],f)"
   ]
  },
  {
   "cell_type": "code",
   "execution_count": 7,
   "metadata": {
    "collapsed": true
   },
   "outputs": [],
   "source": [
    "\n",
    "#end of preprocessing\n",
    "\n"
   ]
  },
  {
   "cell_type": "code",
   "execution_count": 8,
   "metadata": {
    "collapsed": true
   },
   "outputs": [],
   "source": [
    "#neural net begins"
   ]
  },
  {
   "cell_type": "code",
   "execution_count": 12,
   "metadata": {
    "collapsed": false
   },
   "outputs": [],
   "source": [
    "#no of nodes in layers\n",
    "n_nodes_hl1 = 1500\n",
    "n_nodes_hl2 = 1500\n",
    "n_nodes_hl3 = 1500\n",
    "\n",
    "#binary classification ie positive [1,0] or negetive ie [0,1]\n",
    "n_classes = 2\n",
    "batch_size = 100\n",
    "hm_epochs = 20\n",
    "\n",
    "#usage of placeholder\n",
    "#'placeholder(dtype,shape,name)'. To evaaluate this it must be fed data eg\n",
    "#x = tf.placeholder(tf.float32, shape=(1024, 1024))\n",
    "#y = tf.matmul(x, x)\n",
    "#rand_array = np.random.rand(1024, 1024) \n",
    "#print(sess.run(y, feed_dict={x: rand_array}))\n",
    "#end\n",
    "x = tf.placeholder('float')\n",
    "y = tf.placeholder('float')\n",
    "\n",
    "#defining a map whose values will be used in each layer of neuralnet\n",
    "\n",
    "#tf.random_normal(shape,mean=0.0,stdev=1.0) outputs random variable from normal distribution\n",
    "hidden_1_layer = {'f_fum':n_nodes_hl1,\n",
    "                  'weight':tf.Variable(tf.random_normal([len(train_x[0]), n_nodes_hl1])),\n",
    "                  'bias':tf.Variable(tf.random_normal([n_nodes_hl1]))}\n",
    "\n",
    "hidden_2_layer = {'f_fum':n_nodes_hl2,\n",
    "                  'weight':tf.Variable(tf.random_normal([n_nodes_hl1, n_nodes_hl2])),\n",
    "                  'bias':tf.Variable(tf.random_normal([n_nodes_hl2]))}\n",
    "\n",
    "hidden_3_layer = {'f_fum':n_nodes_hl3,\n",
    "                  'weight':tf.Variable(tf.random_normal([n_nodes_hl2, n_nodes_hl3])),\n",
    "                  'bias':tf.Variable(tf.random_normal([n_nodes_hl3]))}\n",
    "\n",
    "output_layer = {'f_fum':None,\n",
    "                'weight':tf.Variable(tf.random_normal([n_nodes_hl3, n_classes])),\n",
    "                'bias':tf.Variable(tf.random_normal([n_classes]))}\n",
    "\n",
    "#defining the neural net model\n",
    "def neural_network_model(data):\n",
    "    #first layer\n",
    "    #matrix multiplication of data with weights and then addition of bias\n",
    "    #we add bias because we want our neural network to always fire\n",
    "    l1 = tf.add(tf.matmul(data,hidden_1_layer['weight']), hidden_1_layer['bias'])\n",
    "    #passing the summation through the activation function\n",
    "    #it is a rectified linear function. 'relu(features which is a tensor,name)'\n",
    "    l1 = tf.nn.relu(l1)\n",
    "    \n",
    "    #Layer 2\n",
    "    l2 = tf.add(tf.matmul(l1,hidden_2_layer['weight']), hidden_2_layer['bias'])\n",
    "    l2 = tf.nn.relu(l2)\n",
    "    \n",
    "    #layer 3\n",
    "    l3 = tf.add(tf.matmul(l2,hidden_3_layer['weight']), hidden_3_layer['bias'])\n",
    "    l3 = tf.nn.relu(l3)\n",
    "\n",
    "    output = tf.matmul(l3,output_layer['weight']) + output_layer['bias']\n",
    "\n",
    "    return output\n",
    "#end of neural net model"
   ]
  },
  {
   "cell_type": "code",
   "execution_count": 10,
   "metadata": {
    "collapsed": true
   },
   "outputs": [],
   "source": [
    "#training our neural net\n",
    "def train_neural_network(x):\n",
    "        prediction = neural_network_model(x)\n",
    "        cost = tf.reduce_mean( tf.nn.softmax_cross_entropy_with_logits(logits=prediction, labels=y) )\n",
    "        optimizer = tf.train.AdamOptimizer(learning_rate=0.001).minimize(cost)\n",
    "\n",
    "        with tf.Session() as sess:\n",
    "                sess.run(tf.global_variables_initializer())\n",
    "                \n",
    "                for epoch in range(hm_epochs):\n",
    "                        epoch_loss = 0\n",
    "                        i=0\n",
    "                        while i < len(train_x):\n",
    "                                start = i\n",
    "                                end = i+batch_size\n",
    "                                batch_x = np.array(train_x[start:end])\n",
    "                                batch_y = np.array(train_y[start:end])\n",
    "\n",
    "                                _, c = sess.run([optimizer, cost], feed_dict={x: batch_x,y: batch_y})\n",
    "                                epoch_loss += c\n",
    "                                i+=batch_size\n",
    "                                \n",
    "                        print('Epoch', epoch+1, 'completed out of',hm_epochs,'loss:',epoch_loss)\n",
    "                correct = tf.equal(tf.argmax(prediction, 1), tf.argmax(y, 1))\n",
    "                accuracy = tf.reduce_mean(tf.cast(correct, 'float'))\n",
    "\n",
    "                print('Accuracy:',accuracy.eval({x:test_x, y:test_y})*100,'%')\n"
   ]
  },
  {
   "cell_type": "code",
   "execution_count": 11,
   "metadata": {
    "collapsed": false,
    "scrolled": true
   },
   "outputs": [
    {
     "name": "stdout",
     "output_type": "stream",
     "text": [
      "Epoch 1 completed out of 20 loss: 1466141.18311\n",
      "Epoch 2 completed out of 20 loss: 500205.926025\n",
      "Epoch 3 completed out of 20 loss: 236399.635376\n",
      "Epoch 4 completed out of 20 loss: 233396.099854\n",
      "Epoch 5 completed out of 20 loss: 333945.280121\n",
      "Epoch 6 completed out of 20 loss: 164637.504208\n",
      "Epoch 7 completed out of 20 loss: 91485.6360321\n",
      "Epoch 8 completed out of 20 loss: 111690.989552\n",
      "Epoch 9 completed out of 20 loss: 108725.947052\n",
      "Epoch 10 completed out of 20 loss: 115102.818727\n",
      "Epoch 11 completed out of 20 loss: 197805.220808\n",
      "Epoch 12 completed out of 20 loss: 202860.90612\n",
      "Epoch 13 completed out of 20 loss: 19275.609046\n",
      "Epoch 14 completed out of 20 loss: 8761.91754064\n",
      "Epoch 15 completed out of 20 loss: 8056.98958445\n",
      "Epoch 16 completed out of 20 loss: 6712.42345309\n",
      "Epoch 17 completed out of 20 loss: 6775.75487953\n",
      "Epoch 18 completed out of 20 loss: 7841.22249734\n",
      "Epoch 19 completed out of 20 loss: 8107.0376575\n",
      "Epoch 20 completed out of 20 loss: 7311.37510335\n",
      "Accuracy: 64.0712916851 %\n"
     ]
    }
   ],
   "source": [
    "train_neural_network(x)"
   ]
  },
  {
   "cell_type": "code",
   "execution_count": null,
   "metadata": {
    "collapsed": false
   },
   "outputs": [],
   "source": []
  },
  {
   "cell_type": "code",
   "execution_count": null,
   "metadata": {
    "collapsed": true
   },
   "outputs": [],
   "source": []
  }
 ],
 "metadata": {
  "anaconda-cloud": {},
  "kernelspec": {
   "display_name": "Python [conda env:ipykernel_py3]",
   "language": "python",
   "name": "conda-env-ipykernel_py3-py"
  },
  "language_info": {
   "codemirror_mode": {
    "name": "ipython",
    "version": 3
   },
   "file_extension": ".py",
   "mimetype": "text/x-python",
   "name": "python",
   "nbconvert_exporter": "python",
   "pygments_lexer": "ipython3",
   "version": "3.6.1"
  }
 },
 "nbformat": 4,
 "nbformat_minor": 1
}
